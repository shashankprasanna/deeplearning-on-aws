{
 "cells": [
  {
   "cell_type": "markdown",
   "metadata": {},
   "source": [
    "# ***Demo: Single-GPU Training with Amazon SageMaker***"
   ]
  },
  {
   "cell_type": "code",
   "execution_count": 1,
   "metadata": {
    "jupyter": {
     "source_hidden": true
    }
   },
   "outputs": [],
   "source": [
    "# !pip install sagemaker --upgrade -q\n",
    "# !pip install ipywidgets -q\n",
    "# !wget https://raw.githubusercontent.com/awslabs/amazon-sagemaker-examples/master/advanced_functionality/tensorflow_bring_your_own/utils/generate_cifar10_tfrecords.py\n",
    "# !python generate_cifar10_tfrecords.py --data-dir cifar10"
   ]
  },
  {
   "cell_type": "markdown",
   "metadata": {},
   "source": [
    "**Step 1:** Import essentials packages, start a sagemaker session and specify the bucket name you created in the pre-requsites section of this workshop."
   ]
  },
  {
   "cell_type": "code",
   "execution_count": 2,
   "metadata": {},
   "outputs": [],
   "source": [
    "import os\n",
    "import boto3\n",
    "import time\n",
    "import numpy as np\n",
    "import sagemaker\n",
    "\n",
    "sess = boto3.Session()\n",
    "sm   = sess.client('sagemaker')\n",
    "sagemaker_session = sagemaker.Session()\n",
    "role = sagemaker.get_execution_role()\n",
    "\n",
    "bucket_name    = sagemaker_session.default_bucket()\n",
    "jobs_folder    = 'jobs'\n",
    "dataset_folder = 'datasets'"
   ]
  },
  {
   "cell_type": "markdown",
   "metadata": {},
   "source": [
    "![](https://miro.medium.com/max/1000/0*GRfvsrvtfpRm400-)"
   ]
  },
  {
   "cell_type": "markdown",
   "metadata": {},
   "source": [
    "#### Upload dataset if it doesn't exist"
   ]
  },
  {
   "cell_type": "code",
   "execution_count": 3,
   "metadata": {},
   "outputs": [],
   "source": [
    "# !python generate_cifar10_tfrecords.py --data-dir=cifar10-dataset\n",
    "# datasets = sagemaker_session.upload_data(path='cifar10-dataset', key_prefix=f'{dataset_folder}/cifar10-tfrecords')\n",
    "# datasets"
   ]
  },
  {
   "cell_type": "markdown",
   "metadata": {},
   "source": [
    "#### If dataset already exists"
   ]
  },
  {
   "cell_type": "code",
   "execution_count": 4,
   "metadata": {},
   "outputs": [
    {
     "data": {
      "text/plain": [
       "'s3://sagemaker-us-west-2-453691756499/datasets/cifar10-tfrecords'"
      ]
     },
     "execution_count": 4,
     "metadata": {},
     "output_type": "execute_result"
    }
   ],
   "source": [
    "datasets = f's3://{bucket_name}/{dataset_folder}/cifar10-tfrecords'\n",
    "datasets"
   ]
  },
  {
   "cell_type": "markdown",
   "metadata": {},
   "source": [
    "**Step 2:** Specify hyperparameters, instance type and number of instances to distribute training to. "
   ]
  },
  {
   "cell_type": "code",
   "execution_count": 5,
   "metadata": {},
   "outputs": [],
   "source": [
    "job_name   = f'tf-single-gpu-{time.strftime(\"%Y-%m-%d-%H-%M-%S-%j\", time.gmtime())}'\n",
    "output_path = f's3://{bucket_name}/{jobs_folder}'\n",
    "\n",
    "metric_definitions = [{'Name': 'Validation Accuracy', 'Regex': 'Validation Accuracy: ([0-9\\\\.]+)'}]\n",
    "\n",
    "hyperparameters = {'epochs'       : 50, \n",
    "                   'learning-rate': 0.01,\n",
    "                   'momentum'     : 0.95,\n",
    "                   'weight-decay' : 2e-4,\n",
    "                   'optimizer'    : 'adam',\n",
    "                   'batch-size'   : 256,\n",
    "                   'model-type'   : 'custom'}\n"
   ]
  },
  {
   "cell_type": "code",
   "execution_count": 6,
   "metadata": {},
   "outputs": [],
   "source": [
    "from sagemaker.debugger import TensorBoardOutputConfig\n",
    "\n",
    "tensorboard_output_config = TensorBoardOutputConfig(\n",
    "    s3_output_path=f's3://{bucket_name}/tensorboard_logs')"
   ]
  },
  {
   "cell_type": "code",
   "execution_count": 7,
   "metadata": {},
   "outputs": [],
   "source": [
    "from sagemaker.tensorflow import TensorFlow\n",
    "estimator = TensorFlow(entry_point         = 'cifar10-tf2.py', \n",
    "                           source_dir           = 'code',\n",
    "                           output_path          = output_path + '/',\n",
    "                           code_location        = output_path,\n",
    "                           role                 = role,\n",
    "                           instance_count       = 1,\n",
    "                           instance_type        = 'ml.p3.2xlarge',\n",
    "                           framework_version    = '2.4', \n",
    "                           py_version           = 'py37',\n",
    "                           metric_definitions   = metric_definitions,\n",
    "                           hyperparameters      = hyperparameters,\n",
    "                           tensorboard_output_config = tensorboard_output_config)"
   ]
  },
  {
   "cell_type": "markdown",
   "metadata": {},
   "source": [
    "**Step 4:** Specify dataset locations in Amazon S3 and then call the fit function."
   ]
  },
  {
   "cell_type": "code",
   "execution_count": 8,
   "metadata": {},
   "outputs": [
    {
     "name": "stdout",
     "output_type": "stream",
     "text": [
      "2022-05-06 10:22:51 Starting - Starting the training job...\n",
      "2022-05-06 10:23:16 Starting - Preparing the instances for trainingProfilerReport-1651832570: InProgress\n",
      ".........\n",
      "2022-05-06 10:24:43 Downloading - Downloading input data...\n",
      "2022-05-06 10:25:03 Training - Downloading the training image.......................\u001b[34m2022-05-06 10:29:02.738663: W tensorflow/core/profiler/internal/smprofiler_timeline.cc:460] Initializing the SageMaker Profiler.\u001b[0m\n",
      "\u001b[34m2022-05-06 10:29:02.743909: W tensorflow/core/profiler/internal/smprofiler_timeline.cc:105] SageMaker Profiler is not enabled. The timeline writer thread will not be started, future recorded events will be dropped.\u001b[0m\n",
      "\u001b[34m2022-05-06 10:29:02.873772: I tensorflow/stream_executor/platform/default/dso_loader.cc:49] Successfully opened dynamic library libcudart.so.11.0\u001b[0m\n",
      "\u001b[34m2022-05-06 10:29:03.006696: W tensorflow/core/profiler/internal/smprofiler_timeline.cc:460] Initializing the SageMaker Profiler.\u001b[0m\n",
      "\u001b[34m2022-05-06 10:29:07,298 sagemaker-training-toolkit INFO     Imported framework sagemaker_tensorflow_container.training\u001b[0m\n",
      "\u001b[34m2022-05-06 10:29:07,855 sagemaker-training-toolkit INFO     Installing dependencies from requirements.txt:\u001b[0m\n",
      "\u001b[34m/usr/local/bin/python3.7 -m pip install -r requirements.txt\u001b[0m\n",
      "\u001b[34mRequirement already satisfied: Pillow in /usr/local/lib/python3.7/site-packages (from -r requirements.txt (line 1)) (8.3.1)\u001b[0m\n",
      "\u001b[34mRequirement already satisfied: numpy in /usr/local/lib/python3.7/site-packages (from -r requirements.txt (line 2)) (1.19.5)\u001b[0m\n",
      "\n",
      "2022-05-06 10:29:04 Training - Training image download completed. Training in progress.\u001b[34mWARNING: Running pip as the 'root' user can result in broken permissions and conflicting behaviour with the system package manager. It is recommended to use a virtual environment instead: https://pip.pypa.io/warnings/venv\u001b[0m\n",
      "\u001b[34mWARNING: You are using pip version 21.2.4; however, version 22.0.4 is available.\u001b[0m\n",
      "\u001b[34mYou should consider upgrading via the '/usr/local/bin/python3.7 -m pip install --upgrade pip' command.\u001b[0m\n",
      "\u001b[34m2022-05-06 10:29:10,056 sagemaker-training-toolkit INFO     Invoking user script\u001b[0m\n",
      "\u001b[34mTraining Env:\u001b[0m\n",
      "\u001b[34m{\n",
      "    \"additional_framework_parameters\": {},\n",
      "    \"channel_input_dirs\": {\n",
      "        \"eval\": \"/opt/ml/input/data/eval\",\n",
      "        \"train\": \"/opt/ml/input/data/train\",\n",
      "        \"validation\": \"/opt/ml/input/data/validation\"\n",
      "    },\n",
      "    \"current_host\": \"algo-1\",\n",
      "    \"framework_module\": \"sagemaker_tensorflow_container.training:main\",\n",
      "    \"hosts\": [\n",
      "        \"algo-1\"\n",
      "    ],\n",
      "    \"hyperparameters\": {\n",
      "        \"batch-size\": 256,\n",
      "        \"epochs\": 50,\n",
      "        \"learning-rate\": 0.01,\n",
      "        \"model-type\": \"custom\",\n",
      "        \"model_dir\": \"s3://sagemaker-us-west-2-453691756499/jobs/tf-single-gpu-2022-05-06-10-22-50-126/model\",\n",
      "        \"momentum\": 0.95,\n",
      "        \"optimizer\": \"adam\",\n",
      "        \"weight-decay\": 0.0002\n",
      "    },\n",
      "    \"input_config_dir\": \"/opt/ml/input/config\",\n",
      "    \"input_data_config\": {\n",
      "        \"eval\": {\n",
      "            \"TrainingInputMode\": \"File\",\n",
      "            \"S3DistributionType\": \"FullyReplicated\",\n",
      "            \"RecordWrapperType\": \"None\"\n",
      "        },\n",
      "        \"train\": {\n",
      "            \"TrainingInputMode\": \"File\",\n",
      "            \"S3DistributionType\": \"FullyReplicated\",\n",
      "            \"RecordWrapperType\": \"None\"\n",
      "        },\n",
      "        \"validation\": {\n",
      "            \"TrainingInputMode\": \"File\",\n",
      "            \"S3DistributionType\": \"FullyReplicated\",\n",
      "            \"RecordWrapperType\": \"None\"\n",
      "        }\n",
      "    },\n",
      "    \"input_dir\": \"/opt/ml/input\",\n",
      "    \"is_master\": true,\n",
      "    \"job_name\": \"tf-single-gpu-2022-05-06-10-22-50-126\",\n",
      "    \"log_level\": 20,\n",
      "    \"master_hostname\": \"algo-1\",\n",
      "    \"model_dir\": \"/opt/ml/model\",\n",
      "    \"module_dir\": \"s3://sagemaker-us-west-2-453691756499/jobs/tf-single-gpu-2022-05-06-10-22-50-126/source/sourcedir.tar.gz\",\n",
      "    \"module_name\": \"cifar10-tf2\",\n",
      "    \"network_interface_name\": \"eth0\",\n",
      "    \"num_cpus\": 8,\n",
      "    \"num_gpus\": 1,\n",
      "    \"output_data_dir\": \"/opt/ml/output/data\",\n",
      "    \"output_dir\": \"/opt/ml/output\",\n",
      "    \"output_intermediate_dir\": \"/opt/ml/output/intermediate\",\n",
      "    \"resource_config\": {\n",
      "        \"current_host\": \"algo-1\",\n",
      "        \"current_instance_type\": \"ml.p3.2xlarge\",\n",
      "        \"current_group_name\": \"homogeneousCluster\",\n",
      "        \"hosts\": [\n",
      "            \"algo-1\"\n",
      "        ],\n",
      "        \"instance_groups\": [\n",
      "            {\n",
      "                \"instance_group_name\": \"homogeneousCluster\",\n",
      "                \"instance_type\": \"ml.p3.2xlarge\",\n",
      "                \"hosts\": [\n",
      "                    \"algo-1\"\n",
      "                ]\n",
      "            }\n",
      "        ],\n",
      "        \"network_interface_name\": \"eth0\"\n",
      "    },\n",
      "    \"user_entry_point\": \"cifar10-tf2.py\"\u001b[0m\n",
      "\u001b[34m}\u001b[0m\n",
      "\u001b[34mEnvironment variables:\u001b[0m\n",
      "\u001b[34mSM_HOSTS=[\"algo-1\"]\u001b[0m\n",
      "\u001b[34mSM_NETWORK_INTERFACE_NAME=eth0\u001b[0m\n",
      "\u001b[34mSM_HPS={\"batch-size\":256,\"epochs\":50,\"learning-rate\":0.01,\"model-type\":\"custom\",\"model_dir\":\"s3://sagemaker-us-west-2-453691756499/jobs/tf-single-gpu-2022-05-06-10-22-50-126/model\",\"momentum\":0.95,\"optimizer\":\"adam\",\"weight-decay\":0.0002}\u001b[0m\n",
      "\u001b[34mSM_USER_ENTRY_POINT=cifar10-tf2.py\u001b[0m\n",
      "\u001b[34mSM_FRAMEWORK_PARAMS={}\u001b[0m\n",
      "\u001b[34mSM_RESOURCE_CONFIG={\"current_group_name\":\"homogeneousCluster\",\"current_host\":\"algo-1\",\"current_instance_type\":\"ml.p3.2xlarge\",\"hosts\":[\"algo-1\"],\"instance_groups\":[{\"hosts\":[\"algo-1\"],\"instance_group_name\":\"homogeneousCluster\",\"instance_type\":\"ml.p3.2xlarge\"}],\"network_interface_name\":\"eth0\"}\u001b[0m\n",
      "\u001b[34mSM_INPUT_DATA_CONFIG={\"eval\":{\"RecordWrapperType\":\"None\",\"S3DistributionType\":\"FullyReplicated\",\"TrainingInputMode\":\"File\"},\"train\":{\"RecordWrapperType\":\"None\",\"S3DistributionType\":\"FullyReplicated\",\"TrainingInputMode\":\"File\"},\"validation\":{\"RecordWrapperType\":\"None\",\"S3DistributionType\":\"FullyReplicated\",\"TrainingInputMode\":\"File\"}}\u001b[0m\n",
      "\u001b[34mSM_OUTPUT_DATA_DIR=/opt/ml/output/data\u001b[0m\n",
      "\u001b[34mSM_CHANNELS=[\"eval\",\"train\",\"validation\"]\u001b[0m\n",
      "\u001b[34mSM_CURRENT_HOST=algo-1\u001b[0m\n",
      "\u001b[34mSM_MODULE_NAME=cifar10-tf2\u001b[0m\n",
      "\u001b[34mSM_LOG_LEVEL=20\u001b[0m\n",
      "\u001b[34mSM_FRAMEWORK_MODULE=sagemaker_tensorflow_container.training:main\u001b[0m\n",
      "\u001b[34mSM_INPUT_DIR=/opt/ml/input\u001b[0m\n",
      "\u001b[34mSM_INPUT_CONFIG_DIR=/opt/ml/input/config\u001b[0m\n",
      "\u001b[34mSM_OUTPUT_DIR=/opt/ml/output\u001b[0m\n",
      "\u001b[34mSM_NUM_CPUS=8\u001b[0m\n",
      "\u001b[34mSM_NUM_GPUS=1\u001b[0m\n",
      "\u001b[34mSM_MODEL_DIR=/opt/ml/model\u001b[0m\n",
      "\u001b[34mSM_MODULE_DIR=s3://sagemaker-us-west-2-453691756499/jobs/tf-single-gpu-2022-05-06-10-22-50-126/source/sourcedir.tar.gz\u001b[0m\n",
      "\u001b[34mSM_TRAINING_ENV={\"additional_framework_parameters\":{},\"channel_input_dirs\":{\"eval\":\"/opt/ml/input/data/eval\",\"train\":\"/opt/ml/input/data/train\",\"validation\":\"/opt/ml/input/data/validation\"},\"current_host\":\"algo-1\",\"framework_module\":\"sagemaker_tensorflow_container.training:main\",\"hosts\":[\"algo-1\"],\"hyperparameters\":{\"batch-size\":256,\"epochs\":50,\"learning-rate\":0.01,\"model-type\":\"custom\",\"model_dir\":\"s3://sagemaker-us-west-2-453691756499/jobs/tf-single-gpu-2022-05-06-10-22-50-126/model\",\"momentum\":0.95,\"optimizer\":\"adam\",\"weight-decay\":0.0002},\"input_config_dir\":\"/opt/ml/input/config\",\"input_data_config\":{\"eval\":{\"RecordWrapperType\":\"None\",\"S3DistributionType\":\"FullyReplicated\",\"TrainingInputMode\":\"File\"},\"train\":{\"RecordWrapperType\":\"None\",\"S3DistributionType\":\"FullyReplicated\",\"TrainingInputMode\":\"File\"},\"validation\":{\"RecordWrapperType\":\"None\",\"S3DistributionType\":\"FullyReplicated\",\"TrainingInputMode\":\"File\"}},\"input_dir\":\"/opt/ml/input\",\"is_master\":true,\"job_name\":\"tf-single-gpu-2022-05-06-10-22-50-126\",\"log_level\":20,\"master_hostname\":\"algo-1\",\"model_dir\":\"/opt/ml/model\",\"module_dir\":\"s3://sagemaker-us-west-2-453691756499/jobs/tf-single-gpu-2022-05-06-10-22-50-126/source/sourcedir.tar.gz\",\"module_name\":\"cifar10-tf2\",\"network_interface_name\":\"eth0\",\"num_cpus\":8,\"num_gpus\":1,\"output_data_dir\":\"/opt/ml/output/data\",\"output_dir\":\"/opt/ml/output\",\"output_intermediate_dir\":\"/opt/ml/output/intermediate\",\"resource_config\":{\"current_group_name\":\"homogeneousCluster\",\"current_host\":\"algo-1\",\"current_instance_type\":\"ml.p3.2xlarge\",\"hosts\":[\"algo-1\"],\"instance_groups\":[{\"hosts\":[\"algo-1\"],\"instance_group_name\":\"homogeneousCluster\",\"instance_type\":\"ml.p3.2xlarge\"}],\"network_interface_name\":\"eth0\"},\"user_entry_point\":\"cifar10-tf2.py\"}\u001b[0m\n",
      "\u001b[34mSM_USER_ARGS=[\"--batch-size\",\"256\",\"--epochs\",\"50\",\"--learning-rate\",\"0.01\",\"--model-type\",\"custom\",\"--model_dir\",\"s3://sagemaker-us-west-2-453691756499/jobs/tf-single-gpu-2022-05-06-10-22-50-126/model\",\"--momentum\",\"0.95\",\"--optimizer\",\"adam\",\"--weight-decay\",\"0.0002\"]\u001b[0m\n",
      "\u001b[34mSM_OUTPUT_INTERMEDIATE_DIR=/opt/ml/output/intermediate\u001b[0m\n",
      "\u001b[34mSM_CHANNEL_EVAL=/opt/ml/input/data/eval\u001b[0m\n",
      "\u001b[34mSM_CHANNEL_TRAIN=/opt/ml/input/data/train\u001b[0m\n",
      "\u001b[34mSM_CHANNEL_VALIDATION=/opt/ml/input/data/validation\u001b[0m\n",
      "\u001b[34mSM_HP_BATCH-SIZE=256\u001b[0m\n",
      "\u001b[34mSM_HP_EPOCHS=50\u001b[0m\n",
      "\u001b[34mSM_HP_LEARNING-RATE=0.01\u001b[0m\n",
      "\u001b[34mSM_HP_MODEL-TYPE=custom\u001b[0m\n",
      "\u001b[34mSM_HP_MODEL_DIR=s3://sagemaker-us-west-2-453691756499/jobs/tf-single-gpu-2022-05-06-10-22-50-126/model\u001b[0m\n",
      "\u001b[34mSM_HP_MOMENTUM=0.95\u001b[0m\n",
      "\u001b[34mSM_HP_OPTIMIZER=adam\u001b[0m\n",
      "\u001b[34mSM_HP_WEIGHT-DECAY=0.0002\u001b[0m\n",
      "\u001b[34mPYTHONPATH=/opt/ml/code:/usr/local/bin:/usr/local/lib/python37.zip:/usr/local/lib/python3.7:/usr/local/lib/python3.7/lib-dynload:/usr/local/lib/python3.7/site-packages\u001b[0m\n",
      "\u001b[34mInvoking script with the following command:\u001b[0m\n",
      "\u001b[34m/usr/local/bin/python3.7 cifar10-tf2.py --batch-size 256 --epochs 50 --learning-rate 0.01 --model-type custom --model_dir s3://sagemaker-us-west-2-453691756499/jobs/tf-single-gpu-2022-05-06-10-22-50-126/model --momentum 0.95 --optimizer adam --weight-decay 0.0002\u001b[0m\n",
      "\u001b[34m====== Getting model architecture: custom ======\u001b[0m\n",
      "\u001b[34m[2022-05-06 10:29:18.948 ip-10-0-246-130.us-west-2.compute.internal:40 INFO utils.py:27] RULE_JOB_STOP_SIGNAL_FILENAME: None\u001b[0m\n",
      "\u001b[34m[2022-05-06 10:29:19.034 ip-10-0-246-130.us-west-2.compute.internal:40 INFO profiler_config_parser.py:102] User has disabled profiler.\u001b[0m\n",
      "\u001b[34m[2022-05-06 10:29:19.036 ip-10-0-246-130.us-west-2.compute.internal:40 INFO json_config.py:91] Creating hook from json_config at /opt/ml/input/config/debughookconfig.json.\u001b[0m\n",
      "\u001b[34m[2022-05-06 10:29:19.037 ip-10-0-246-130.us-west-2.compute.internal:40 INFO hook.py:255] Saving to /opt/ml/output/tensors\u001b[0m\n",
      "\u001b[34m[2022-05-06 10:29:19.037 ip-10-0-246-130.us-west-2.compute.internal:40 INFO state_store.py:77] The checkpoint config file /opt/ml/input/config/checkpointconfig.json does not exist.\u001b[0m\n",
      "\u001b[34m[2022-05-06 10:29:19.038 ip-10-0-246-130.us-west-2.compute.internal:40 INFO hook.py:425] Monitoring the collections: losses, sm_metrics, metrics\u001b[0m\n",
      "\u001b[34mEpoch: 1, Epoch duration: 0.008245468139648438 sec, Training loss: 2.3159587383270264, Training accuracy: 15.938000679016113 Validation Loss: 2.262575387954712, Validation Accuracy: 16.386219024658203\u001b[0m\n",
      "\u001b[34mEpoch: 2, Epoch duration: 0.007035493850708008 sec, Training loss: 2.0218238830566406, Training accuracy: 19.563800811767578 Validation Loss: 2.1579442024230957, Validation Accuracy: 18.689903259277344\u001b[0m\n",
      "\u001b[34mEpoch: 3, Epoch duration: 0.007749319076538086 sec, Training loss: 1.9407329559326172, Training accuracy: 22.876602172851562 Validation Loss: 2.0905354022979736, Validation Accuracy: 20.012020111083984\u001b[0m\n",
      "\u001b[34mEpoch: 4, Epoch duration: 0.007335186004638672 sec, Training loss: 1.8712297677993774, Training accuracy: 25.80128288269043 Validation Loss: 1.7916922569274902, Validation Accuracy: 30.889421463012695\u001b[0m\n",
      "\u001b[34mEpoch: 5, Epoch duration: 0.007339954376220703 sec, Training loss: 1.7796273231506348, Training accuracy: 30.095651626586914 Validation Loss: 2.002223491668701, Validation Accuracy: 20.17227554321289\u001b[0m\n",
      "\u001b[34mEpoch: 6, Epoch duration: 0.007070064544677734 sec, Training loss: 1.6649011373519897, Training accuracy: 35.596954345703125 Validation Loss: 1.7885973453521729, Validation Accuracy: 33.643829345703125\u001b[0m\n",
      "\u001b[34mEpoch: 7, Epoch duration: 0.006614208221435547 sec, Training loss: 1.4858777523040771, Training accuracy: 45.162261962890625 Validation Loss: 1.68018639087677, Validation Accuracy: 39.322914123535156\u001b[0m\n",
      "\u001b[34mEpoch: 8, Epoch duration: 0.00793766975402832 sec, Training loss: 1.3456841707229614, Training accuracy: 52.65925598144531 Validation Loss: 1.4374128580093384, Validation Accuracy: 49.348960876464844\u001b[0m\n",
      "\u001b[34mEpoch: 9, Epoch duration: 0.006090641021728516 sec, Training loss: 1.2233964204788208, Training accuracy: 57.083831787109375 Validation Loss: 1.1641641855239868, Validation Accuracy: 59.86578369140625\u001b[0m\n",
      "\u001b[34mEpoch: 10, Epoch duration: 0.008549213409423828 sec, Training loss: 1.1287992000579834, Training accuracy: 61.080230712890625 Validation Loss: 1.3337796926498413, Validation Accuracy: 59.11458206176758\u001b[0m\n",
      "\u001b[34mEpoch: 11, Epoch duration: 0.007486104965209961 sec, Training loss: 1.0609792470932007, Training accuracy: 63.59925842285156 Validation Loss: 0.9657154679298401, Validation Accuracy: 66.26602172851562\u001b[0m\n",
      "\u001b[34mEpoch: 12, Epoch duration: 0.008249521255493164 sec, Training loss: 1.0100187063217163, Training accuracy: 65.8553695678711 Validation Loss: 1.460608959197998, Validation Accuracy: 57.84254837036133\u001b[0m\n",
      "\u001b[34mEpoch: 13, Epoch duration: 0.00650477409362793 sec, Training loss: 0.9528823494911194, Training accuracy: 67.92117309570312 Validation Loss: 0.9128048419952393, Validation Accuracy: 68.27925109863281\u001b[0m\n",
      "\u001b[34mEpoch: 14, Epoch duration: 0.007550239562988281 sec, Training loss: 0.9124413728713989, Training accuracy: 69.16816711425781 Validation Loss: 0.9820972084999084, Validation Accuracy: 67.87860107421875\u001b[0m\n",
      "\u001b[34mEpoch: 15, Epoch duration: 0.006964921951293945 sec, Training loss: 0.8843115568161011, Training accuracy: 70.6104736328125 Validation Loss: 0.8563307523727417, Validation Accuracy: 70.20232391357422\u001b[0m\n",
      "\u001b[34mEpoch: 16, Epoch duration: 0.0073506832122802734 sec, Training loss: 0.8437550067901611, Training accuracy: 71.72225952148438 Validation Loss: 0.8291422724723816, Validation Accuracy: 71.74479675292969\u001b[0m\n",
      "\u001b[34mEpoch: 17, Epoch duration: 0.007527589797973633 sec, Training loss: 0.8218274116516113, Training accuracy: 72.56109619140625 Validation Loss: 0.7442363500595093, Validation Accuracy: 74.11859130859375\u001b[0m\n",
      "\u001b[34mEpoch: 18, Epoch duration: 0.008634567260742188 sec, Training loss: 0.7968897223472595, Training accuracy: 73.37740325927734 Validation Loss: 0.6871623396873474, Validation Accuracy: 76.10176086425781\u001b[0m\n",
      "\u001b[34mEpoch: 19, Epoch duration: 0.01682734489440918 sec, Training loss: 0.7801735401153564, Training accuracy: 74.22125244140625 Validation Loss: 0.7071556448936462, Validation Accuracy: 75.75120544433594\u001b[0m\n",
      "\u001b[34mEpoch: 20, Epoch duration: 0.0070683956146240234 sec, Training loss: 0.7566254138946533, Training accuracy: 74.9073486328125 Validation Loss: 0.8630375862121582, Validation Accuracy: 70.43269348144531\u001b[0m\n",
      "\u001b[34mEpoch: 21, Epoch duration: 0.008593082427978516 sec, Training loss: 0.7425702214241028, Training accuracy: 75.65855407714844 Validation Loss: 0.6522411108016968, Validation Accuracy: 77.70433044433594\u001b[0m\n",
      "\u001b[34mEpoch: 22, Epoch duration: 0.007479190826416016 sec, Training loss: 0.7213484644889832, Training accuracy: 76.28706359863281 Validation Loss: 0.9006161689758301, Validation Accuracy: 69.36097717285156\u001b[0m\n",
      "\u001b[34mEpoch: 23, Epoch duration: 0.00748133659362793 sec, Training loss: 0.7030160427093506, Training accuracy: 76.62259674072266 Validation Loss: 0.7721026539802551, Validation Accuracy: 74.58934020996094\u001b[0m\n",
      "\u001b[34mEpoch: 24, Epoch duration: 0.006741046905517578 sec, Training loss: 0.6953864097595215, Training accuracy: 76.90554809570312 Validation Loss: 0.6295532584190369, Validation Accuracy: 78.62580108642578\u001b[0m\n",
      "\u001b[34mEpoch: 25, Epoch duration: 0.008034229278564453 sec, Training loss: 0.6815699338912964, Training accuracy: 77.549072265625 Validation Loss: 0.623856246471405, Validation Accuracy: 78.59574890136719\u001b[0m\n",
      "\u001b[34mEpoch: 26, Epoch duration: 0.007516145706176758 sec, Training loss: 0.6696533560752869, Training accuracy: 77.99479675292969 Validation Loss: 0.6061787009239197, Validation Accuracy: 79.296875\u001b[0m\n",
      "\u001b[34mEpoch: 27, Epoch duration: 0.006647348403930664 sec, Training loss: 0.6568587422370911, Training accuracy: 78.17257690429688 Validation Loss: 0.7134284973144531, Validation Accuracy: 76.97315979003906\u001b[0m\n",
      "\u001b[34mEpoch: 28, Epoch duration: 0.008727073669433594 sec, Training loss: 0.6436523795127869, Training accuracy: 78.818603515625 Validation Loss: 0.6269343495368958, Validation Accuracy: 78.98637390136719\u001b[0m\n",
      "\u001b[34mEpoch: 29, Epoch duration: 0.0073089599609375 sec, Training loss: 0.6323496699333191, Training accuracy: 79.1015625 Validation Loss: 0.6467843055725098, Validation Accuracy: 77.49398803710938\u001b[0m\n",
      "\u001b[34mEpoch: 30, Epoch duration: 0.007395744323730469 sec, Training loss: 0.6241915225982666, Training accuracy: 79.42457580566406 Validation Loss: 0.6533482670783997, Validation Accuracy: 78.135009765625\u001b[0m\n",
      "\u001b[34mEpoch: 31, Epoch duration: 0.007405281066894531 sec, Training loss: 0.6203426122665405, Training accuracy: 79.59234619140625 Validation Loss: 0.5395244359970093, Validation Accuracy: 81.4503173828125\u001b[0m\n",
      "\u001b[34mEpoch: 32, Epoch duration: 0.0074045658111572266 sec, Training loss: 0.606715977191925, Training accuracy: 79.95042419433594 Validation Loss: 0.6069106459617615, Validation Accuracy: 79.296875\u001b[0m\n",
      "\u001b[34mEpoch: 33, Epoch duration: 0.007297992706298828 sec, Training loss: 0.5953525304794312, Training accuracy: 80.59144592285156 Validation Loss: 0.577613890171051, Validation Accuracy: 81.11979675292969\u001b[0m\n",
      "\u001b[34mEpoch: 34, Epoch duration: 0.007976770401000977 sec, Training loss: 0.59096759557724, Training accuracy: 80.75921630859375 Validation Loss: 0.5966842174530029, Validation Accuracy: 80.48878479003906\u001b[0m\n",
      "\u001b[34mEpoch: 35, Epoch duration: 0.007640361785888672 sec, Training loss: 0.582863986492157, Training accuracy: 80.71163940429688 Validation Loss: 0.5264322757720947, Validation Accuracy: 82.041259765625\u001b[0m\n",
      "\u001b[34mEpoch: 36, Epoch duration: 0.007272005081176758 sec, Training loss: 0.5701383352279663, Training accuracy: 80.98207092285156 Validation Loss: 0.5465168356895447, Validation Accuracy: 81.46034240722656\u001b[0m\n",
      "\u001b[34mEpoch: 37, Epoch duration: 0.006798505783081055 sec, Training loss: 0.5676457285881042, Training accuracy: 81.10226440429688 Validation Loss: 0.5982106924057007, Validation Accuracy: 80.22836303710938\u001b[0m\n",
      "\u001b[34mEpoch: 38, Epoch duration: 0.0074007511138916016 sec, Training loss: 0.5598978400230408, Training accuracy: 81.57051086425781 Validation Loss: 0.5698921084403992, Validation Accuracy: 80.16827392578125\u001b[0m\n",
      "\u001b[34mEpoch: 39, Epoch duration: 0.007577180862426758 sec, Training loss: 0.5520620346069336, Training accuracy: 81.46534729003906 Validation Loss: 0.5249572396278381, Validation Accuracy: 82.2315673828125\u001b[0m\n",
      "\u001b[34mEpoch: 40, Epoch duration: 0.006655216217041016 sec, Training loss: 0.5455546975135803, Training accuracy: 81.78335571289062 Validation Loss: 0.568820059299469, Validation Accuracy: 81.09976196289062\u001b[0m\n",
      "\u001b[34mEpoch: 41, Epoch duration: 0.007246494293212891 sec, Training loss: 0.5450540781021118, Training accuracy: 81.8709945678711 Validation Loss: 0.6281536817550659, Validation Accuracy: 78.77604675292969\u001b[0m\n",
      "\u001b[34mEpoch: 42, Epoch duration: 0.0073413848876953125 sec, Training loss: 0.5451188087463379, Training accuracy: 82.03125 Validation Loss: 0.5471578240394592, Validation Accuracy: 81.72074890136719\u001b[0m\n",
      "\u001b[34mEpoch: 43, Epoch duration: 0.006894826889038086 sec, Training loss: 0.5287831425666809, Training accuracy: 82.4168701171875 Validation Loss: 0.6091697216033936, Validation Accuracy: 79.66746520996094\u001b[0m\n",
      "\u001b[34mEpoch: 44, Epoch duration: 0.0074460506439208984 sec, Training loss: 0.5246855616569519, Training accuracy: 82.67728424072266 Validation Loss: 0.5530247092247009, Validation Accuracy: 81.4803695678711\u001b[0m\n",
      "\u001b[34mEpoch: 45, Epoch duration: 0.007568359375 sec, Training loss: 0.5196741819381714, Training accuracy: 82.65975952148438 Validation Loss: 0.6038141846656799, Validation Accuracy: 80.83934020996094\u001b[0m\n",
      "\u001b[34mEpoch: 46, Epoch duration: 0.007325887680053711 sec, Training loss: 0.5213169455528259, Training accuracy: 82.5545883178711 Validation Loss: 0.626945436000824, Validation Accuracy: 79.97796630859375\u001b[0m\n",
      "\u001b[34mEpoch: 47, Epoch duration: 0.006802082061767578 sec, Training loss: 0.5131196975708008, Training accuracy: 82.78746032714844 Validation Loss: 0.5238070487976074, Validation Accuracy: 82.99278259277344\u001b[0m\n",
      "\u001b[34mEpoch: 48, Epoch duration: 0.0073735713958740234 sec, Training loss: 0.5101327896118164, Training accuracy: 83.05038452148438 Validation Loss: 0.4796684980392456, Validation Accuracy: 83.67387390136719\u001b[0m\n",
      "\u001b[34mEpoch: 49, Epoch duration: 0.007269859313964844 sec, Training loss: 0.49979835748672485, Training accuracy: 83.4034423828125 Validation Loss: 0.5576701760292053, Validation Accuracy: 81.77082824707031\u001b[0m\n",
      "\u001b[34mEpoch: 50, Epoch duration: 0.007996082305908203 sec, Training loss: 0.49171340465545654, Training accuracy: 83.7540054321289 Validation Loss: 0.5115753412246704, Validation Accuracy: 82.69230651855469\u001b[0m\n",
      "\u001b[34m====== Test Results ======\u001b[0m\n",
      "\u001b[34mTest loss: 0.5410804152488708, Test accuracy: 82.20152282714844\u001b[0m\n",
      "\u001b[34m====== End of training ======\u001b[0m\n",
      "\u001b[34m2022-05-06 10:29:10.221547: W tensorflow/core/profiler/internal/smprofiler_timeline.cc:460] Initializing the SageMaker Profiler.\u001b[0m\n",
      "\u001b[34m2022-05-06 10:29:10.221720: W tensorflow/core/profiler/internal/smprofiler_timeline.cc:105] SageMaker Profiler is not enabled. The timeline writer thread will not be started, future recorded events will be dropped.\u001b[0m\n",
      "\u001b[34m2022-05-06 10:29:10.263981: W tensorflow/core/profiler/internal/smprofiler_timeline.cc:460] Initializing the SageMaker Profiler.\u001b[0m\n",
      "\u001b[34m2022-05-06 10:32:53.596882: W tensorflow/python/util/util.cc:348] Sets are not currently considered sequences, but this may change in the future, so consider avoiding using them.\u001b[0m\n",
      "\u001b[34mINFO:tensorflow:Assets written to: /opt/ml/model/1/assets\u001b[0m\n",
      "\u001b[34mINFO:tensorflow:Assets written to: /opt/ml/model/1/assets\u001b[0m\n",
      "\u001b[34m2022-05-06 10:32:58,032 sagemaker-training-toolkit INFO     Reporting training SUCCESS\u001b[0m\n",
      "\n",
      "2022-05-06 10:33:25 Uploading - Uploading generated training model\n",
      "2022-05-06 10:33:25 Completed - Training job completed\n",
      "ProfilerReport-1651832570: NoIssuesFound\n",
      "Training seconds: 519\n",
      "Billable seconds: 519\n"
     ]
    }
   ],
   "source": [
    "estimator.fit({'train': datasets,\n",
    "                    'validation': datasets,\n",
    "                    'eval': datasets}, \n",
    "                  job_name=job_name, wait=True)"
   ]
  }
 ],
 "metadata": {
  "instance_type": "ml.t3.medium",
  "kernelspec": {
   "display_name": "Python 3 (TensorFlow 2.3 Python 3.7 CPU Optimized)",
   "language": "python",
   "name": "python3__SAGEMAKER_INTERNAL__arn:aws:sagemaker:us-west-2:236514542706:image/tensorflow-2.3-cpu-py37-ubuntu18.04-v1"
  },
  "language_info": {
   "codemirror_mode": {
    "name": "ipython",
    "version": 3
   },
   "file_extension": ".py",
   "mimetype": "text/x-python",
   "name": "python",
   "nbconvert_exporter": "python",
   "pygments_lexer": "ipython3",
   "version": "3.7.10"
  }
 },
 "nbformat": 4,
 "nbformat_minor": 4
}
